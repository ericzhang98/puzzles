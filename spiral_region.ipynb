{
 "cells": [
  {
   "cell_type": "code",
   "execution_count": 395,
   "metadata": {
    "scrolled": false
   },
   "outputs": [
    {
     "data": {
      "image/png": "[encoded data removed]",
      "text/plain": [
       "<matplotlib.figure.Figure at 0x13df75550>"
      ]
     },
     "metadata": {},
     "output_type": "display_data"
    }
   ],
   "source": [
    "import matplotlib.pyplot as plt\n",
    "import matplotlib\n",
    "import numpy as np\n",
    "\n",
    "\n",
    "x = [ \n",
    "        [1,1,1,2,2,3,3,4,4,4,5,5,5,5],\n",
    "        [1,1,6,2,2,2,3,3,4,4,4,4,5,5],\n",
    "        [1,6,6,2,7,7,7,3,3,8,8,4,4,5],\n",
    "        [6,6,6,10,7,11,7,7,3,8,9,9,5,5],\n",
    "        [10,6,10,10,11,11,11,12,3,8,9,9,9,3],\n",
    "        [10,6,10,11,11,13,11,12,3,8,8,8,9,3],\n",
    "        [10,10,10,10,13,13,12,12,3,14,9,9,9,3],\n",
    "        [15,10,10,13,13,12,12,3,3,14,3,3,3,3],\n",
    "        [15,15,13,13,3,3,3,3,14,14,14,16,16,3],\n",
    "        [15,17,17,18,3,19,19,19,19,14,14,14,16,3],\n",
    "        [15,15,17,18,3,3,19,20,19,21,21,16,16,3],\n",
    "        [17,17,17,18,18,3,3,20,20,20,21,21,16,3],\n",
    "        [17,18,17,18,18,18,3,3,20,20,21,21,16,3],\n",
    "        [17,18,18,18,18,18,18,3,3,3,3,3,3,3,]\n",
    "    ]   \n",
    "\n",
    "og = matplotlib.cm.get_cmap(name=\"tab20\")\n",
    "colors = list(og.colors) + [(0,0,0)]\n",
    "c = matplotlib.colors.ListedColormap(colors, name='my_name')\n",
    "plt.imshow(x, cmap=c)\n",
    "plt.show()"
   ]
  },
  {
   "cell_type": "code",
   "execution_count": 396,
   "metadata": {
    "collapsed": true,
    "scrolled": true
   },
   "outputs": [],
   "source": [
    "import itertools\n",
    "\n",
    "n = 14\n",
    "\n",
    "def ind(r,c):\n",
    "    return r*n + c + 1 # picosat 1-indexes\n",
    "def rc(ind):\n",
    "    return (ind-1) // n, (ind-1) % n\n",
    "\n",
    "def rot_sym(rot_n, offr, offc):\n",
    "    res = []\n",
    "    banned = set(range(1, n**2+1))\n",
    "    for i in range(offr, (rot_n+1)/2):\n",
    "        for j in range(offc, (rot_n+1)/2):\n",
    "            ul = (i+offr,j+offc)\n",
    "            ur = (j+offr,rot_n-1-i+offc)\n",
    "            bl = (rot_n-1-j+offr,i+offc)\n",
    "            br = (rot_n-1-i+offr,rot_n-1-j+offc)\n",
    "            for comb in itertools.combinations([ul, ur, bl, br], 2):\n",
    "                ind0 = ind(*comb[0])\n",
    "                ind1 = ind(*comb[1])\n",
    "                res.append(\"-{} {} 0\".format(ind0, ind1))\n",
    "                res.append(\"{} -{} 0\".format(ind0, ind1))\n",
    "                if ind0 in banned:\n",
    "                    banned.remove(ind0)\n",
    "                if ind1 in banned:\n",
    "                    banned.remove(ind1)\n",
    "    for b in banned:\n",
    "        res.append(\"-{} 0\".format(b))\n",
    "    return res\n",
    "\n",
    "def connected(n=14):\n",
    "    res = []\n",
    "    for i in range(n):\n",
    "        for j in range(n):\n",
    "            def neighbors(r,c):\n",
    "                nbs = set()\n",
    "                if r > 0:\n",
    "                    nbs.add((r-1,c))\n",
    "                if c > 0:\n",
    "                    nbs.add((r,c-1))\n",
    "                if r < n-1:\n",
    "                    nbs.add((r+1,c))\n",
    "                if c < n-1:\n",
    "                    nbs.add((r,c+1))\n",
    "                return nbs\n",
    "            nbs = neighbors(i,j)\n",
    "            inds = map(lambda x: ind(*x), nbs)\n",
    "            s = \"-{} \".format(ind(i,j))\n",
    "            for var in inds:\n",
    "                s += \"{} \".format(var)\n",
    "            s += \"0\"\n",
    "            res.append(s)\n",
    "    return res"
   ]
  },
  {
   "cell_type": "code",
   "execution_count": 397,
   "metadata": {
    "collapsed": true
   },
   "outputs": [],
   "source": [
    "def nchoosek(arr, k):\n",
    "    n = len(arr)\n",
    "    res = []\n",
    "    \n",
    "    # pigeonholeish encodings\n",
    "    # encoding at least k: all combinations of size n-k+1 needs at least 1 true\n",
    "    import itertools\n",
    "    for c in itertools.combinations(arr, n-k+1):\n",
    "        encoding = []\n",
    "        for var in c:\n",
    "            encoding.append(\"{} \".format(var))\n",
    "        encoding.append(\"0\")\n",
    "        res.append(\"\".join(encoding))\n",
    "    # encoding at most k: all combinations of size k+1 needs at least 1 false\n",
    "    for c in itertools.combinations(arr, k+1):\n",
    "        encoding = []\n",
    "        for var in c:\n",
    "            encoding.append(\"-{} \".format(var))\n",
    "        encoding.append(\"0\")\n",
    "        res.append(\"\".join(encoding))\n",
    "    return res\n",
    "\n",
    "from collections import defaultdict\n",
    "hm = defaultdict(set)\n",
    "for i, arr in enumerate(x):\n",
    "    for j, group in enumerate(arr):\n",
    "        hm[group].add(ind(i,j))\n",
    "hm = dict(hm)\n",
    "\n",
    "def k_in_group(k):\n",
    "    res = []\n",
    "    for group in hm:\n",
    "        res.extend(nchoosek(hm[group], k))\n",
    "    return res"
   ]
  },
  {
   "cell_type": "code",
   "execution_count": 398,
   "metadata": {
    "collapsed": true
   },
   "outputs": [],
   "source": [
    "def encode(nck_list, rot_n, offr, offc, extras=[]):\n",
    "    fname = \"js.cnf\"\n",
    "    num_vars = 196\n",
    "    encodings = rot_sym(rot_n, offr, offc) + connected() + nck_list + extras\n",
    "    with open(fname, 'w') as fout:\n",
    "        header = \"p cnf {} {}\".format(num_vars, len(encodings))\n",
    "        fout.write(header)\n",
    "        fout.write(\"\\n\")\n",
    "        for e in encodings:\n",
    "            fout.write(e)\n",
    "            fout.write(\"\\n\")"
   ]
  },
  {
   "cell_type": "code",
   "execution_count": 399,
   "metadata": {
    "collapsed": true
   },
   "outputs": [],
   "source": [
    "from subprocess import Popen, PIPE\n",
    "\n",
    "def run_sat_solver(file_name='js.cnf'):\n",
    "    p = Popen(['./picosat', file_name], stdin=PIPE, stdout=PIPE, stderr=PIPE)\n",
    "    output, err = p.communicate(b\"input data that is passed to subprocess' stdin\")\n",
    "    rc = p.returncode\n",
    "    return cleanup(output)\n",
    "\n",
    "def cleanup(s):\n",
    "    s = s.replace(\"\\nv\", \"\")\n",
    "    s = s.replace(\"s SATISFIABLE \", \"\")\n",
    "    s = s.replace(\"s UNSATISFIABLE\\n\", \"\")\n",
    "    s = s.replace(\" 0\\n\", \"\")\n",
    "    return s if s != '' else None\n",
    "\n",
    "def solve(file_name='js.cnf'):\n",
    "    sat = run_sat_solver(file_name=file_name)\n",
    "    if sat == None:\n",
    "        return None\n",
    "    sat = sat.split(\" \")\n",
    "    return sat\n",
    "\n",
    "def sat_grid(sat):\n",
    "    g = [[0]*14 for _ in range(14)]\n",
    "    for assignment in sat:\n",
    "        r, c = rc(abs(int(assignment)))\n",
    "        if int(assignment) < 0:\n",
    "            g[r][c] = 0\n",
    "        else:\n",
    "            g[r][c] = 1\n",
    "    return g\n",
    "\n",
    "def get_extra(sat):\n",
    "    extra = []\n",
    "    for v in sat:\n",
    "        extra.append(\"{} \".format(-int(v)))\n",
    "    extra.append(\"0\")\n",
    "    return \"\".join(extra)\n",
    "            \n",
    "def area(solution):\n",
    "    solution = map(lambda row: map(lambda el: 1 if el == 0 else 0, row), solution)\n",
    "    from scipy.ndimage import measurements\n",
    "    labels, num = measurements.label(solution)\n",
    "    areas = measurements.sum(solution, labels, index=range(1, num+1))\n",
    "    print areas\n",
    "    return reduce(lambda x,y: x*y, areas)"
   ]
  },
  {
   "cell_type": "code",
   "execution_count": 400,
   "metadata": {},
   "outputs": [
    {
     "name": "stdout",
     "output_type": "stream",
     "text": [
      "[ 11.  49.   2.   1.   2.  11.   1.   2.   2.   2.   2.   1.   2.   2.   1.]\n",
      "1517824.0\n",
      "[ 10.   1.  49.   2.   1.   2.   1.  10.   1.   2.   2.   2.   2.   1.   2.\n",
      "   2.   1.]\n",
      "1254400.0\n",
      "[ 10.  47.   2.   1.   2.  10.   1.   1.   2.   1.   2.   2.   1.   2.   1.\n",
      "   1.   2.   2.   1.]\n",
      "1203200.0\n",
      "Done\n"
     ]
    }
   ],
   "source": [
    "sols = []\n",
    "extras = []\n",
    "while True:\n",
    "    encode(k5, 13, 0, 0, extras=extras)\n",
    "    sat = solve()\n",
    "    if sat is None:\n",
    "        print \"Done\"\n",
    "        break\n",
    "    g = sat_grid(sat)\n",
    "    a = area(g)\n",
    "    e = get_extra(sat)\n",
    "    extras.append(e)\n",
    "    sols.append((a, g))\n",
    "    print a"
   ]
  },
  {
   "cell_type": "code",
   "execution_count": 401,
   "metadata": {},
   "outputs": [
    {
     "data": {
      "text/plain": [
       "[[1, 1, 1, 1, 1, 0, 0, 0, 0, 1, 1, 1, 1, 0],\n",
       " [1, 0, 1, 0, 1, 1, 0, 0, 1, 1, 0, 0, 1, 0],\n",
       " [1, 0, 1, 1, 1, 1, 1, 0, 0, 0, 1, 1, 1, 0],\n",
       " [1, 1, 0, 1, 0, 1, 1, 1, 0, 1, 1, 0, 1, 0],\n",
       " [0, 1, 0, 0, 1, 1, 0, 0, 1, 0, 1, 1, 1, 0],\n",
       " [0, 0, 0, 1, 0, 1, 1, 1, 1, 1, 1, 1, 0, 0],\n",
       " [0, 0, 1, 1, 0, 1, 1, 1, 0, 1, 1, 0, 0, 0],\n",
       " [0, 1, 1, 1, 1, 1, 1, 1, 0, 1, 0, 0, 0, 0],\n",
       " [1, 1, 1, 0, 1, 0, 0, 1, 1, 0, 0, 1, 0, 0],\n",
       " [1, 0, 1, 1, 0, 1, 1, 1, 0, 1, 0, 1, 1, 0],\n",
       " [1, 1, 1, 0, 0, 0, 1, 1, 1, 1, 1, 0, 1, 0],\n",
       " [1, 0, 0, 1, 1, 0, 0, 1, 1, 0, 1, 0, 1, 0],\n",
       " [1, 1, 1, 1, 0, 0, 0, 0, 1, 1, 1, 1, 1, 0],\n",
       " [0, 0, 0, 0, 0, 0, 0, 0, 0, 0, 0, 0, 0, 0]]"
      ]
     },
     "execution_count": 401,
     "metadata": {},
     "output_type": "execute_result"
    }
   ],
   "source": [
    "sols[-1][1]"
   ]
  },
  {
   "cell_type": "code",
   "execution_count": 402,
   "metadata": {},
   "outputs": [
    {
     "data": {
      "image/png": "[encoded data removed]",
      "text/plain": [
       "<matplotlib.figure.Figure at 0x13e0211d0>"
      ]
     },
     "metadata": {},
     "output_type": "display_data"
    }
   ],
   "source": [
    "g = sols[-1][1]\n",
    "asdf = matplotlib.cm.get_cmap(name=\"tab10\")\n",
    "colors = ['w', 'k'] \n",
    "c = matplotlib.colors.ListedColormap(colors, name='my_name')\n",
    "plt.imshow(g, cmap=c)\n",
    "plt.show()"
   ]
  }
 ],
 "metadata": {
  "kernelspec": {
   "display_name": "Python 2",
   "language": "python",
   "name": "python2"
  },
  "language_info": {
   "codemirror_mode": {
    "name": "ipython",
    "version": 2
   },
   "file_extension": ".py",
   "mimetype": "text/x-python",
   "name": "python",
   "nbconvert_exporter": "python",
   "pygments_lexer": "ipython2",
   "version": "2.7.13"
  }
 },
 "nbformat": 4,
 "nbformat_minor": 2
}
